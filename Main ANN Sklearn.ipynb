{
 "cells": [
  {
   "cell_type": "code",
   "execution_count": 1,
   "metadata": {},
   "outputs": [],
   "source": [
    "# Memanggil Dependencies\n",
    "import pandas as pd\n",
    "import numpy as np\n",
    "import random\n",
    "import sklearn\n",
    "\n",
    "from numpy import ndarray\n",
    "from sklearn.metrics import confusion_matrix, classification_report\n",
    "from sklearn.neural_network import MLPClassifier\n",
    "RANDOM_SEED = 27"
   ]
  },
  {
   "cell_type": "code",
   "execution_count": 2,
   "metadata": {},
   "outputs": [],
   "source": [
    "# Load dataset\n",
    "df = pd.read_csv('input/diabetesPreProcessed.csv')\n",
    "\n",
    "# Mengambil data pada kolom Outcome ke variabel target sebagai numpy Array\n",
    "dftarget = df['Outcome']\n",
    "target = dftarget.to_numpy()\n",
    "\n",
    "# Menghapus kolom Outcome untuk mengambil data seluruh features\n",
    "df = df.drop(columns=['Outcome'])\n",
    "\n",
    "# Seluruh data features disimpan ke dalam variabel data sebagai numpy Array\n",
    "data = df.to_numpy()"
   ]
  },
  {
   "cell_type": "code",
   "execution_count": 3,
   "metadata": {},
   "outputs": [],
   "source": [
    "# Standarisasi Data\n",
    "from sklearn.preprocessing import StandardScaler\n",
    "s = StandardScaler()\n",
    "data = s.fit_transform(data)"
   ]
  },
  {
   "cell_type": "code",
   "execution_count": 4,
   "metadata": {},
   "outputs": [
    {
     "name": "stdout",
     "output_type": "stream",
     "text": [
      "(604, 8) (152, 8) (604,) (152,)\n"
     ]
    }
   ],
   "source": [
    "# Split Data\n",
    "from sklearn.model_selection import train_test_split\n",
    "X_train, X_test, y_train, y_test = train_test_split(data, target, test_size=0.2, random_state=RANDOM_SEED)\n",
    "\n",
    "# Mengubah data target menjadi array 2D\n",
    "# y_train = y_train.reshape(-1, 1)\n",
    "print(X_train.shape, X_test.shape, y_train.shape, y_test.shape)"
   ]
  },
  {
   "cell_type": "code",
   "execution_count": 5,
   "metadata": {},
   "outputs": [
    {
     "name": "stdout",
     "output_type": "stream",
     "text": [
      "Elapsed 0.153 seconds.\n"
     ]
    }
   ],
   "source": [
    "# Training Neural Network\n",
    "import time\n",
    "start = time.perf_counter()\n",
    "\n",
    "mlp = MLPClassifier(hidden_layer_sizes=(16), activation='tanh', solver='sgd', learning_rate_init=0.02, \n",
    "                    early_stopping=True, batch_size=25, max_iter=2000, random_state=RANDOM_SEED)\n",
    "mlp.fit(X_train,y_train)\n",
    "\n",
    "elapsed = time.perf_counter() - start\n",
    "print('Elapsed %.3f seconds.' % elapsed)"
   ]
  },
  {
   "cell_type": "code",
   "execution_count": 6,
   "metadata": {},
   "outputs": [
    {
     "name": "stdout",
     "output_type": "stream",
     "text": [
      "Wall time: 0 ns\n"
     ]
    }
   ],
   "source": [
    "# Testing Neural Network\n",
    "import time\n",
    "%time\n",
    "predict_train = mlp.predict(X_train)\n",
    "predict_test = mlp.predict(X_test)"
   ]
  },
  {
   "cell_type": "code",
   "execution_count": 7,
   "metadata": {},
   "outputs": [
    {
     "name": "stdout",
     "output_type": "stream",
     "text": [
      "[[333  57]\n",
      " [ 68 146]]\n",
      "              precision    recall  f1-score   support\n",
      "\n",
      "           0       0.83      0.85      0.84       390\n",
      "           1       0.72      0.68      0.70       214\n",
      "\n",
      "    accuracy                           0.79       604\n",
      "   macro avg       0.77      0.77      0.77       604\n",
      "weighted avg       0.79      0.79      0.79       604\n",
      "\n"
     ]
    }
   ],
   "source": [
    "# Confusion Matrix untuk set training\n",
    "print(confusion_matrix(y_train,predict_train))\n",
    "print(classification_report(y_train,predict_train))"
   ]
  },
  {
   "cell_type": "code",
   "execution_count": 8,
   "metadata": {},
   "outputs": [
    {
     "name": "stdout",
     "output_type": "stream",
     "text": [
      "[[90 15]\n",
      " [15 32]]\n",
      "              precision    recall  f1-score   support\n",
      "\n",
      "           0       0.86      0.86      0.86       105\n",
      "           1       0.68      0.68      0.68        47\n",
      "\n",
      "    accuracy                           0.80       152\n",
      "   macro avg       0.77      0.77      0.77       152\n",
      "weighted avg       0.80      0.80      0.80       152\n",
      "\n"
     ]
    }
   ],
   "source": [
    "# Confusion Matrix untuk set testing\n",
    "print(confusion_matrix(y_test,predict_test))\n",
    "print(classification_report(y_test,predict_test))"
   ]
  }
 ],
 "metadata": {
  "kernelspec": {
   "display_name": "Python 3",
   "language": "python",
   "name": "python3"
  },
  "language_info": {
   "codemirror_mode": {
    "name": "ipython",
    "version": 3
   },
   "file_extension": ".py",
   "mimetype": "text/x-python",
   "name": "python",
   "nbconvert_exporter": "python",
   "pygments_lexer": "ipython3",
   "version": "3.7.3"
  }
 },
 "nbformat": 4,
 "nbformat_minor": 2
}
